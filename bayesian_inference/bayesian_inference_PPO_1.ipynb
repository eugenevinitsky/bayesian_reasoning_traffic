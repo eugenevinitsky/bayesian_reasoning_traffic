{
 "cells": [
  {
   "cell_type": "code",
   "execution_count": 1,
   "metadata": {},
   "outputs": [
    {
     "name": "stderr",
     "output_type": "stream",
     "text": [
      "/home/thankyou-always/anaconda3/envs/flow/lib/python3.6/site-packages/tensorflow/python/framework/dtypes.py:523: FutureWarning: Passing (type, 1) or '1type' as a synonym of type is deprecated; in a future version of numpy, it will be understood as (type, (1,)) / '(1,)type'.\n",
      "  _np_qint8 = np.dtype([(\"qint8\", np.int8, 1)])\n",
      "/home/thankyou-always/anaconda3/envs/flow/lib/python3.6/site-packages/tensorflow/python/framework/dtypes.py:524: FutureWarning: Passing (type, 1) or '1type' as a synonym of type is deprecated; in a future version of numpy, it will be understood as (type, (1,)) / '(1,)type'.\n",
      "  _np_quint8 = np.dtype([(\"quint8\", np.uint8, 1)])\n",
      "/home/thankyou-always/anaconda3/envs/flow/lib/python3.6/site-packages/tensorflow/python/framework/dtypes.py:525: FutureWarning: Passing (type, 1) or '1type' as a synonym of type is deprecated; in a future version of numpy, it will be understood as (type, (1,)) / '(1,)type'.\n",
      "  _np_qint16 = np.dtype([(\"qint16\", np.int16, 1)])\n",
      "/home/thankyou-always/anaconda3/envs/flow/lib/python3.6/site-packages/tensorflow/python/framework/dtypes.py:526: FutureWarning: Passing (type, 1) or '1type' as a synonym of type is deprecated; in a future version of numpy, it will be understood as (type, (1,)) / '(1,)type'.\n",
      "  _np_quint16 = np.dtype([(\"quint16\", np.uint16, 1)])\n",
      "/home/thankyou-always/anaconda3/envs/flow/lib/python3.6/site-packages/tensorflow/python/framework/dtypes.py:527: FutureWarning: Passing (type, 1) or '1type' as a synonym of type is deprecated; in a future version of numpy, it will be understood as (type, (1,)) / '(1,)type'.\n",
      "  _np_qint32 = np.dtype([(\"qint32\", np.int32, 1)])\n",
      "/home/thankyou-always/anaconda3/envs/flow/lib/python3.6/site-packages/tensorflow/python/framework/dtypes.py:532: FutureWarning: Passing (type, 1) or '1type' as a synonym of type is deprecated; in a future version of numpy, it will be understood as (type, (1,)) / '(1,)type'.\n",
      "  np_resource = np.dtype([(\"resource\", np.ubyte, 1)])\n"
     ]
    }
   ],
   "source": [
    "\"\"\"Use Nick's PPO trained policy to perform inference on whether there is a pedestrian or not\"\"\"\n",
    "\n",
    "import argparse\n",
    "from datetime import datetime\n",
    "import gym\n",
    "import os\n",
    "import sys\n",
    "import time\n",
    "import matplotlib.pyplot as plt\n",
    "import numpy as np\n",
    "import PyQt5\n",
    "\n",
    "import ray\n",
    "try:\n",
    "    from ray.rllib.agents.agent import get_agent_class\n",
    "except ImportError:\n",
    "    from ray.rllib.agents.registry import get_agent_class\n",
    "from ray.tune.registry import register_env\n",
    "\n",
    "from flow.core.util import emission_to_csv\n",
    "from flow.utils.registry import make_create_env\n",
    "from flow.utils.rllib import get_flow_params\n",
    "from flow.utils.rllib import get_rllib_config\n",
    "from flow.utils.rllib import get_rllib_pkl\n",
    "\n",
    "from examples.rllib.multiagent_exps.test_predictor.pedestrian_policy_1 import create_env, create_agent\n",
    "from examples.rllib.multiagent_exps.bayesian_0_env import make_flow_params as bayesian_0_flow_params\n",
    "\n",
    "EXAMPLE_USAGE = \"\"\"\n",
    "example usage:\n",
    "    python ./visualizer_rllib.py /ray_results/experiment_dir/result_dir 1\n",
    "Here the arguments are:\n",
    "1 - the path to the simulation results\n",
    "2 - the number of the checkpoint\n",
    "\"\"\""
   ]
  },
  {
   "cell_type": "code",
   "execution_count": 2,
   "metadata": {},
   "outputs": [],
   "source": [
    "%matplotlib inline"
   ]
  },
  {
   "cell_type": "markdown",
   "metadata": {},
   "source": [
    "Policy takes in an observation of length 22 (10 + max_num_objects * 3)\n",
    "\n",
    "observation[4:10] = ped_param\n",
    "\n",
    "I want the set to posterior probabilities: $$Pr(\\text{ped_in_grid_i} | action), \\forall i = 1, \\ldots, 6$$\n",
    "\n",
    "$Pr(\\text{ped_in_grid_i} | \\text{action}) = \\frac{Pr(\\text{action} | \\text{ped_in_i}) Pr(\\text{ped_in_i})}{Pr(\\text{action})}$\n",
    "\n",
    "$\\Pr(action) = \\sum_{i=1}^6 \\Pr(action | ped\\text{_}in\\text{_}i) \\Pr(ped\\text{_}in\\text{_}i)$\n",
    "\n",
    "\n",
    "Compute Pr(action | ped_in_i) by taking\n",
    "\n",
    "1. actual state e.g. s = [a, b, c, d, [0], e, _, _, _], where I only care about the ith grid (suppose there is no ped in the ith grid)\n",
    "\n",
    "2. actual state with flipped pedestrian at grid i, i.e\n",
    "s_flipped = [a, b, c, d, [1], e, _, _, _]\n",
    "\n",
    "Input these two into the policy to get PDFs:\n",
    "\n",
    "If $s[i] == 0,$ ped_PDF = $\\pi(s\\text{_}flipped)$ and no_ped_PDF = $\\pi(s)$. Pr(action | ped_in_i) = $\\frac{ped\\text{_}PDF}{ped\\text{_}PDF + ped\\text{_}no\\text{_}PDF}$\n",
    "\n",
    "If $s[i] == 1,$ ped_PDF = $\\pi(s)$ and no_ped_PDF = $\\pi(s\\text{_}flipped)$. Pr(action | ped_in_i) = $\\frac{ped\\text{_}PDF}{ped\\text{_}PDF + ped\\text{_}no\\text{_}PDF}$\n",
    "\n",
    "and do the usual normalization thing to get Pr(action | ped_in_i)"
   ]
  },
  {
   "cell_type": "code",
   "execution_count": 50,
   "metadata": {},
   "outputs": [],
   "source": [
    "def run_env(env, agent, config, flow_params):\n",
    "    \"\"\"Run the simulation and control the rl car using the trained policy. \n",
    "    \n",
    "    observation[4:10] = ped_param\n",
    "    \n",
    "    The six binary grids are at indices 4 to 9 inclusive\n",
    "    \"\"\"\n",
    "    # set up relevant policy and env\n",
    "    if config.get('multiagent', {}).get('policies', None):\n",
    "        multiagent = True\n",
    "        rets = {}\n",
    "        # map the agent id to its policy\n",
    "        policy_map_fn = config['multiagent']['policy_mapping_fn'].func\n",
    "        for key in config['multiagent']['policies'].keys():\n",
    "            rets[key] = []\n",
    "    else:\n",
    "        multiagent = False\n",
    "        rets = []\n",
    "\n",
    "    if config['model']['use_lstm']:\n",
    "        use_lstm = True\n",
    "        if multiagent:\n",
    "            state_init = {}\n",
    "            # map the agent id to its policy\n",
    "            policy_map_fn = config['multiagent']['policy_mapping_fn'].func\n",
    "            size = config['model']['lstm_cell_size']\n",
    "            for key in config['multiagent']['policies'].keys():\n",
    "                state_init[key] = [np.zeros(size, np.float32),\n",
    "                                   np.zeros(size, np.float32)]\n",
    "        else:\n",
    "            state_init = [\n",
    "                np.zeros(config['model']['lstm_cell_size'], np.float32),\n",
    "                np.zeros(config['model']['lstm_cell_size'], np.float32)\n",
    "            ]\n",
    "    else:\n",
    "        use_lstm = False\n",
    "\n",
    "    env.restart_simulation(\n",
    "        sim_params=flow_params['sim'], render=flow_params['sim'].render)\n",
    "\n",
    "    \n",
    "    # Define variables to collect probability data\n",
    "    # TODO(KL) HARD CODED is_ped_visible is the 5th item in the state vector\n",
    "\n",
    "    ped_idx = [4, 5, 6, 7, 8, 9]\n",
    "    \n",
    "    # Pr(action \\ ped_in_grid_i)\n",
    "    probs_action_given_ped = []\n",
    "    probs_action_given_no_ped = []\n",
    "\n",
    "    # updated priors list\n",
    "    probs_ped_given_action_updated_priors = []\n",
    "    probs_no_ped_given_action_updated_priors = []\n",
    "\n",
    "    # fixed priors list\n",
    "    probs_ped_given_action_fixed_priors = []\n",
    "    probs_no_ped_given_action_fixed_priors = []\n",
    "\n",
    "    # updated Pr(ped), Pr(no_ped)        \n",
    "    updated_prior_prob_ped = 0.5\n",
    "    updated_prior_prob_no_ped = 0.5\n",
    "\n",
    "    # fixed Pr(ped), Pr(no_ped)   \n",
    "    fixed_prior_prob_ped = 0.5\n",
    "    fixed_prior_prob_no_ped = 0.5\n",
    "\n",
    "    visible_pedestrian = {i : [] for i in range(1,7)}\n",
    "\n",
    "    for i in range(args.num_rollouts):\n",
    "        state = env.reset()\n",
    "        # divide by 5 to get \"time\" in the simulation\n",
    "        for _ in range(1000):\n",
    "            vehicles = env.unwrapped.k.vehicle\n",
    "            pedestrian = env.unwrapped.k.pedestrian\n",
    "\n",
    "            if multiagent:\n",
    "                action, logits = {}, {}\n",
    "                for agent_id in state.keys():\n",
    "                    if use_lstm:\n",
    "                        action[agent_id], state_init[agent_id], logits = \\\n",
    "                            agent.compute_action(state[agent_id], \n",
    "                                                    state=state_init[agent_id],\n",
    "                                                    policy_id=policy_map_fn(agent_id))\n",
    "                    else:\n",
    "                        # get the array of length 6 for the rl car's POV\n",
    "                        curr_ped_states = state[agent_id][ped_idx]\n",
    "                        \n",
    "                        for idx, val in enumerate(curr_ped_states, 1):\n",
    "                            visible_pedestrian[idx].append(val)\n",
    "                        \n",
    "                        flipped_ped = 1 if curr_ped_states[0] == 0 else 0\n",
    "                        \n",
    "                        ped_flipped_state = np.copy(state[agent_id])\n",
    "                        ped_flipped_state[ped_idx] = flipped_ped\n",
    "\n",
    "                        action[agent_id], _, logit_actual = agent.compute_action(\n",
    "                            state[agent_id], policy_id=policy_map_fn(agent_id), full_fetch=True)\n",
    "                            \n",
    "                        _, _, logit_flipped = agent.compute_action(\n",
    "                            ped_flipped_state, policy_id=policy_map_fn(agent_id), full_fetch=True)\n",
    "\n",
    "                        mu_ped, ln_sigma_ped = logit_actual['behaviour_logits']\n",
    "                        mu_no_ped, ln_sigma_no_ped = logit_flipped['behaviour_logits']\n",
    "\n",
    "                        sigma_ped = np.exp(ln_sigma_ped)\n",
    "                        sigma_no_ped = np.exp(ln_sigma_no_ped)\n",
    "\n",
    "                        action_ = action[agent_id][0]\n",
    "\n",
    "                        # dict of probs for updated and fixed priors\n",
    "                        probs_fixed = pr_ped_given_action(action_, mu_ped, sigma_ped, mu_no_ped, sigma_no_ped, fixed_prior_prob_ped, fixed_prior=True)\n",
    "                        probs_updated = pr_ped_given_action(action_, mu_ped, sigma_ped, mu_no_ped, sigma_no_ped, updated_prior_prob_ped, fixed_prior=False)\n",
    "\n",
    "                        probs_action_given_ped.append(probs_fixed[\"pr_a_given_ped\"])\n",
    "                        probs_action_given_no_ped.append(probs_fixed[\"pr_a_given_no_ped\"])\n",
    "                        \n",
    "                        # Fixed priors: Pr(ped | action), Pr(no_ped | action)\n",
    "                        probs_ped_given_action_fixed_priors.append(probs_fixed[\"pr_ped_given_action\"])\n",
    "                        probs_no_ped_given_action_fixed_priors.append(probs_fixed[\"pr_no_ped_given_action\"])\n",
    "                        fixed_prior_prob_ped = probs_fixed[\"prior\"]\n",
    "\n",
    "                        # Updated priors: Pr(ped | action), Pr(no_ped | action)\n",
    "                        probs_ped_given_action_updated_priors.append(probs_updated[\"pr_ped_given_action\"])\n",
    "                        probs_no_ped_given_action_updated_priors.append(probs_updated[\"pr_no_ped_given_action\"])\n",
    "                        updated_prior_prob_ped = probs_updated[\"prior\"] \n",
    "\n",
    "            else:\n",
    "                action = agent.compute_action(state)\n",
    "            state, reward, done, _ = env.step(action)\n",
    "\n",
    "            if multiagent and done['__all__']:\n",
    "                print(_,1)\n",
    "                break\n",
    "            if not multiagent and done:\n",
    "                print(_,1)\n",
    "\n",
    "                break    \n",
    "            state, reward, done, _ = env.step(action)   \n",
    "\n",
    "        visible_ped_lsts = [visible_pedestrian[i] for i in range(1, 7)]\n",
    "        legends = [f'ped in grid {i}' for i in range(1, 7)]\n",
    "\n",
    "        plot_lines(visible_ped_lsts, legends)\n",
    "        plot_2_lines(probs_ped_given_action_updated_priors, probs_no_ped_given_action_updated_priors, ['Pr(ped | action) using updated priors', 'Pr(no_ped | action) using updated priors'], viewable_ped=visible_pedestrian[4])\n",
    "        plot_2_lines(probs_ped_given_action_fixed_priors, probs_no_ped_given_action_fixed_priors, ['Pr(ped | action) using fixed priors of Pr(ped) = 0.5', 'Pr(no_ped | action) using fixed priors of Pr(ped) = 0.5'], viewable_ped=visible_pedestrian[5])\n",
    "        plot_2_lines(probs_action_given_ped, probs_action_given_no_ped, ['Pr(action | ped)', 'Pr(action | no_ped)'], viewable_ped=visible_pedestrian[6])\n",
    "\n",
    "        "
   ]
  },
  {
   "cell_type": "code",
   "execution_count": 51,
   "metadata": {},
   "outputs": [],
   "source": [
    "def pr_ped_given_action(action, mu_ped, s_ped, mu_no_ped, s_no_ped, prior, fixed_prior=True):\n",
    "    \"\"\"\n",
    "    @Params\n",
    "    mu_ped, s_ped: mean, sd pair from the policy receiving an input state where there is a visible pedestrian \n",
    "    mu_no_ped, s_no_ped: mean, sd pair from the policy receiving an input state where there is no visible pedestrian \n",
    "\n",
    "    action: the vehicle's acceleration as dictated by the policy\n",
    "    prior: Pr(ped)\n",
    "    fixed_prior: Boolean telling us whether to 'update' the prior Pr(ped) using Pr(ped | action) or not\n",
    "\n",
    "    @Returns\n",
    "    \n",
    "    probs, a dict containing:\n",
    "    1. Pr(action | ped)\n",
    "    2. Pr(action | no_ped)\n",
    "    3. Pr(ped | action)\n",
    "    4. Pr(no_ped | action)\n",
    "    5. Pr(ped) for the next computation of Pr(ped|action)\n",
    "    \n",
    "    3, 4, 5 are calculated subject to the fixed_prior parameter\n",
    "    \"\"\"\n",
    "    probs = {}\n",
    "    \n",
    "    # Compute 1, 2: Pr(action | ped), Pr(action | no_ped)\n",
    "    unnormed_pr_action_given_ped = accel_pdf(mu_ped, s_ped, action)\n",
    "    unnormed_pr_action_given_no_ped = accel_pdf(mu_no_ped, s_no_ped, action)\n",
    "    \n",
    "    pr_a_given_ped = unnormed_pr_action_given_ped / (unnormed_pr_action_given_ped + unnormed_pr_action_given_no_ped)\n",
    "    pr_a_given_no_ped = 1 - pr_a_given_ped\n",
    "    \n",
    "    probs[\"pr_a_given_ped\"] = pr_a_given_ped\n",
    "    probs[\"pr_a_given_no_ped\"] = pr_a_given_no_ped\n",
    "    \n",
    "    # Compute 3, 4: Pr(ped | action), Pr(no_ped | action)\n",
    "    # Apply Bayes' rule\n",
    "    pr_ped_given_action = (pr_a_given_ped * prior) / ((pr_a_given_ped * prior)  + (pr_a_given_no_ped * (1 - prior)))\n",
    "    pr_no_ped_given_action = (pr_a_given_no_ped * (1 - prior)) / ((pr_a_given_ped * prior)  + (pr_a_given_no_ped * (1 - prior)))\n",
    "    probs[\"pr_ped_given_action\"] = pr_ped_given_action\n",
    "    probs[\"pr_no_ped_given_action\"] = pr_no_ped_given_action\n",
    "                    \n",
    "    if fixed_prior:\n",
    "        probs[\"prior\"] = prior\n",
    "    else:\n",
    "        probs[\"prior\"] = probs[\"pr_ped_given_action\"]\n",
    "    return probs\n",
    "    \n",
    "\n",
    "def accel_pdf(mu, sigma, actual):\n",
    "    \"\"\"Return pdf evaluated at actual acceleration\"\"\"\n",
    "    coeff = 1 / np.sqrt(2 * np.pi * (sigma**2))\n",
    "    exp = -0.5 * ((actual - mu) / sigma)**2\n",
    "    return coeff * np.exp(exp)\n",
    "\n",
    "def run_transfer(args):\n",
    "    # run transfer on the bayesian 1 env first\n",
    "    bayesian_0_params = bayesian_0_flow_params(pedestrians=True, render=True)\n",
    "#     import ipdb; ipdb.set_trace()\n",
    "    env, env_name = create_env(args, bayesian_0_params)\n",
    "    agent, config = create_agent(args, flow_params=bayesian_0_params)\n",
    "    run_env(env, agent, config, bayesian_0_params)\n",
    "\n",
    "def plot_2_lines(y1, y2, legend, viewable_ped=False):\n",
    "    x = np.arange(len(y1))\n",
    "    plt.plot(x, y1)\n",
    "    plt.plot(x, y2)\n",
    "    if viewable_ped:\n",
    "        plt.plot(x, viewable_ped)\n",
    "    plt.legend(legend, bbox_to_anchor=(0.5, 1.05), loc=3, borderaxespad=0.)\n",
    "   \n",
    "    plt.draw()\n",
    "    plt.pause(0.001)\n",
    "    \n",
    "def plot_lines(y_val_lsts, legends):\n",
    "    assert len(y_val_lsts) == len(legends)\n",
    "    x = np.arange(len(y_val_lsts[0]))\n",
    "    for y_vals in y_val_lsts:\n",
    "        plt.plot(x, y_vals)\n",
    "    plt.legend(legends, bbox_to_anchor=(0.5, 1.05), loc=3, borderaxespad=0.)\n",
    "    plt.draw()\n",
    "    plt.pause(0.001)"
   ]
  },
  {
   "cell_type": "code",
   "execution_count": 52,
   "metadata": {},
   "outputs": [],
   "source": [
    "def create_parser():\n",
    "    \"\"\"Create the parser to capture CLI arguments.\"\"\"\n",
    "    parser = argparse.ArgumentParser(\n",
    "        formatter_class=argparse.RawDescriptionHelpFormatter,\n",
    "        description='[Flow] Evaluates a reinforcement learning agent '\n",
    "                    'given a checkpoint.',\n",
    "        epilog=EXAMPLE_USAGE)\n",
    "\n",
    "    # required input parameters\n",
    "    parser.add_argument(\n",
    "        'result_dir', type=str, help='Directory containing results')\n",
    "    parser.add_argument('checkpoint_num', type=str, help='Checkpoint number.')\n",
    "\n",
    "    # optional input parameters\n",
    "    parser.add_argument(\n",
    "        '--run',\n",
    "        type=str,\n",
    "        help='The algorithm or model to train. This may refer to '\n",
    "             'the name of a built-on algorithm (e.g. RLLib\\'s DQN '\n",
    "             'or PPO), or a user-defined trainable function or '\n",
    "             'class registered in the tune registry. '\n",
    "             'Required for results trained with flow-0.2.0 and before.')\n",
    "    parser.add_argument(\n",
    "        '--num_rollouts',\n",
    "        type=int,\n",
    "        default=1,\n",
    "        help='The number of rollouts to visualize.')\n",
    "    parser.add_argument(\n",
    "        '--gen_emission',\n",
    "        action='store_true',\n",
    "        help='Specifies whether to generate an emission file from the '\n",
    "             'simulation')\n",
    "    parser.add_argument(\n",
    "        '--evaluate',\n",
    "        action='store_true',\n",
    "        help='Specifies whether to use the \\'evaluate\\' reward '\n",
    "             'for the environment.')\n",
    "    parser.add_argument(\n",
    "        '--render_mode',\n",
    "        type=str,\n",
    "        default='sumo_gui',\n",
    "        help='Pick the render mode. Options include sumo_web3d, '\n",
    "             'rgbd and sumo_gui')\n",
    "    parser.add_argument(\n",
    "        '--save_render',\n",
    "        action='store_true',\n",
    "        help='Saves a rendered video to a file. NOTE: Overrides render_mode '\n",
    "             'with pyglet rendering.')\n",
    "    parser.add_argument(\n",
    "        '--horizon',\n",
    "        type=int,\n",
    "        help='Specifies the horizon.')\n",
    "    \n",
    "    return parser"
   ]
  },
  {
   "cell_type": "code",
   "execution_count": 53,
   "metadata": {},
   "outputs": [
    {
     "name": "stderr",
     "output_type": "stream",
     "text": [
      "2020-04-01 00:23:37,348\tINFO node.py:498 -- Process STDOUT and STDERR is being redirected to /tmp/ray/session_2020-04-01_00-23-37_348681_4374/logs.\n",
      "2020-04-01 00:23:37,463\tINFO services.py:409 -- Waiting for redis server at 127.0.0.1:41556 to respond...\n",
      "2020-04-01 00:23:37,583\tINFO services.py:409 -- Waiting for redis server at 127.0.0.1:29049 to respond...\n",
      "2020-04-01 00:23:37,585\tINFO services.py:809 -- Starting Redis shard with 3.33 GB max memory.\n",
      "2020-04-01 00:23:37,628\tINFO node.py:512 -- Process STDOUT and STDERR is being redirected to /tmp/ray/session_2020-04-01_00-23-37_348681_4374/logs.\n",
      "2020-04-01 00:23:37,630\tINFO services.py:1475 -- Starting the Plasma object store with 4.99 GB memory using /dev/shm.\n"
     ]
    },
    {
     "name": "stdout",
     "output_type": "stream",
     "text": [
      "NOTE: With render mode sumo_gui, an extra instance of the SUMO GUI will display before the GUI for visualizing the result. Click the green Play arrow to continue.\n",
      "(2.1)--(1.1) (1.1)--(1.2) 1 1\n",
      "Error making env  Cannot re-register id: Bayesian1Env-v0\n",
      "True\n",
      "NOTE: With render mode sumo_gui, an extra instance of the SUMO GUI will display before the GUI for visualizing the result. Click the green Play arrow to continue.\n",
      "(2.1)--(1.1) (1.1)--(1.2) 1 1\n",
      "Error making env  Cannot re-register id: Bayesian1Env-v0\n",
      "True\n"
     ]
    },
    {
     "name": "stderr",
     "output_type": "stream",
     "text": [
      "2020-04-01 00:23:39,935\tWARNING ppo.py:143 -- FYI: By default, the value function will not share layers with the policy model ('vf_share_layers': False).\n"
     ]
    },
    {
     "name": "stdout",
     "output_type": "stream",
     "text": [
      "(2.1)--(1.1) (1.1)--(1.2) 1 1\n",
      "Error making env  Cannot re-register id: Bayesian1Env-v0\n",
      "True\n"
     ]
    },
    {
     "name": "stderr",
     "output_type": "stream",
     "text": [
      "2020-04-01 00:23:41,055\tINFO rollout_worker.py:319 -- Creating policy evaluation worker 0 on CPU (please ignore any CUDA init errors)\n",
      "/home/thankyou-always/anaconda3/envs/flow/lib/python3.6/site-packages/tensorflow/python/ops/gradients_impl.py:100: UserWarning: Converting sparse IndexedSlices to a dense Tensor of unknown shape. This may consume a large amount of memory.\n",
      "  \"Converting sparse IndexedSlices to a dense Tensor of unknown shape. \"\n",
      "2020-04-01 00:23:41,922\tINFO rollout_worker.py:742 -- Built policy map: {'av': <ray.rllib.policy.tf_policy_template.PPOTFPolicy object at 0x7fcf7c3cc080>}\n",
      "2020-04-01 00:23:41,922\tINFO rollout_worker.py:743 -- Built preprocessor map: {'av': <ray.rllib.models.preprocessors.NoPreprocessor object at 0x7fcf7c3ccf28>}\n",
      "2020-04-01 00:23:41,922\tINFO rollout_worker.py:356 -- Built filter map: {'av': <ray.rllib.utils.filter.NoFilter object at 0x7fcf7c3cc4e0>}\n",
      "2020-04-01 00:23:41,925\tWARNING util.py:47 -- Install gputil for GPU system monitoring.\n"
     ]
    },
    {
     "name": "stdout",
     "output_type": "stream",
     "text": [
      "{'rl_0': {}} 1\n"
     ]
    },
    {
     "data": {
      "image/png": "[encoded data removed]",
      "text/plain": [
       "<Figure size 432x288 with 1 Axes>"
      ]
     },
     "metadata": {
      "needs_background": "light"
     },
     "output_type": "display_data"
    },
    {
     "data": {
      "image/png": "[encoded data removed]",
      "text/plain": [
       "<Figure size 432x288 with 1 Axes>"
      ]
     },
     "metadata": {
      "needs_background": "light"
     },
     "output_type": "display_data"
    },
    {
     "data": {
      "image/png": "[encoded data removed]",
      "text/plain": [
       "<Figure size 432x288 with 1 Axes>"
      ]
     },
     "metadata": {
      "needs_background": "light"
     },
     "output_type": "display_data"
    },
    {
     "data": {
      "image/png": "[encoded data removed]",
      "text/plain": [
       "<Figure size 432x288 with 1 Axes>"
      ]
     },
     "metadata": {
      "needs_background": "light"
     },
     "output_type": "display_data"
    }
   ],
   "source": [
    "parser = create_parser()\n",
    "args = parser.parse_args([\"./PPO_Bayesian_1_250iter_1e-4lr_sumo_approach\", \"100\"])\n",
    "ray.shutdown()\n",
    "ray.init(num_cpus=1)\n",
    "run_transfer(args)"
   ]
  },
  {
   "cell_type": "code",
   "execution_count": null,
   "metadata": {},
   "outputs": [],
   "source": []
  },
  {
   "cell_type": "code",
   "execution_count": 7,
   "metadata": {},
   "outputs": [
    {
     "data": {
      "text/plain": [
       "{'pr_a_given_ped': 0.512156995603998,\n",
       " 'pr_a_given_no_ped': 0.48784300439600203,\n",
       " 'pr_ped_given_action': 0.5221739005549169,\n",
       " 'pr_no_ped_given_action': 0.47782609944508314,\n",
       " 'prior': 0.5221739005549169}"
      ]
     },
     "execution_count": 7,
     "metadata": {},
     "output_type": "execute_result"
    }
   ],
   "source": [
    "pr_ped_given_action(.6538469, 0.14252673, 2.4491935, 0.14200129, 2.5765653, 0.5100277175584501, False)"
   ]
  },
  {
   "cell_type": "code",
   "execution_count": 19,
   "metadata": {},
   "outputs": [
    {
     "data": {
      "text/plain": [
       "array([22,  3,  4])"
      ]
     },
     "execution_count": 19,
     "metadata": {},
     "output_type": "execute_result"
    }
   ],
   "source": [
    "b = np.array([11,22, 3, 4, 5, 6, 7])\n",
    "c = [1, 2, 3]\n",
    "b[c]"
   ]
  },
  {
   "cell_type": "code",
   "execution_count": 20,
   "metadata": {},
   "outputs": [
    {
     "name": "stdout",
     "output_type": "stream",
     "text": [
      "1 11\n",
      "2 22\n",
      "3 3\n",
      "4 4\n",
      "5 5\n",
      "6 6\n",
      "7 7\n"
     ]
    }
   ],
   "source": [
    "for idx, val in enumerate(b, 1):\n",
    "    print(idx, val)"
   ]
  },
  {
   "cell_type": "code",
   "execution_count": null,
   "metadata": {},
   "outputs": [],
   "source": []
  }
 ],
 "metadata": {
  "kernelspec": {
   "display_name": "Python [conda env:flow] *",
   "language": "python",
   "name": "conda-env-flow-py"
  },
  "language_info": {
   "codemirror_mode": {
    "name": "ipython",
    "version": 3
   },
   "file_extension": ".py",
   "mimetype": "text/x-python",
   "name": "python",
   "nbconvert_exporter": "python",
   "pygments_lexer": "ipython3",
   "version": "3.6.8"
  }
 },
 "nbformat": 4,
 "nbformat_minor": 4
}
